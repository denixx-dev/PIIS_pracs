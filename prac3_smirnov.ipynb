{
 "cells": [
  {
   "cell_type": "markdown",
   "metadata": {},
   "source": [
    "## Задача 1\n",
    "Дано множество из p матриц (n,n) и множество из p векторов (n,1). Написать функцию для рассчета суммы p произведений матриц (результат имеет размерность (n,1))"
   ]
  },
  {
   "cell_type": "code",
   "execution_count": 28,
   "metadata": {},
   "outputs": [],
   "source": [
    "import numpy as np\n",
    "import matplotlib.pyplot as plt"
   ]
  },
  {
   "cell_type": "code",
   "execution_count": 29,
   "metadata": {},
   "outputs": [
    {
     "name": "stdout",
     "output_type": "stream",
     "text": [
      "[[259.]\n",
      " [201.]\n",
      " [293.]]\n"
     ]
    }
   ],
   "source": [
    "def dot_matrices_with_vectors(n, p):\n",
    "    matrices = np.loadtxt('matrices_1.txt', delimiter=',').reshape(p, n, n)\n",
    "    vectors = np.loadtxt('vectors_1.txt', delimiter=',').reshape(p, n, 1)\n",
    "\n",
    "    result = np.zeros((len(vectors[0]), 1))\n",
    "    for i in range(len(matrices)):\n",
    "        result += np.dot(matrices[i], vectors[i])\n",
    "\n",
    "    print(result)\n",
    "    np.savetxt('answer_1.txt', result, delimiter=',')\n",
    "\n",
    "dot_matrices_with_vectors(3,3)\n",
    "# сделать ввод из файла"
   ]
  },
  {
   "cell_type": "markdown",
   "metadata": {},
   "source": [
    "## Задача 2\n",
    "Написать функцию преобразовывающую вектор чисел в матрицу бинарных представлений."
   ]
  },
  {
   "cell_type": "code",
   "execution_count": 30,
   "metadata": {},
   "outputs": [
    {
     "name": "stdout",
     "output_type": "stream",
     "text": [
      "[[0 0 0 0 0 0 0 1]\n",
      " [0 0 0 0 0 0 1 0]\n",
      " [0 0 0 0 0 0 1 1]\n",
      " [0 0 0 0 0 1 0 1]\n",
      " [0 0 0 0 0 1 1 0]\n",
      " [0 0 0 0 0 1 0 0]\n",
      " [0 0 0 0 0 1 0 0]\n",
      " [1 0 0 0 0 0 0 0]]\n"
     ]
    }
   ],
   "source": [
    "def binary_representation(n):\n",
    "    vector = np.loadtxt('vector_2.txt', delimiter=',', dtype = 'uint8')\n",
    "    # print(*vector)\n",
    "\n",
    "    binary_arr = np.unpackbits(vector[:, np.newaxis], axis=1)\n",
    "\n",
    "    print(binary_arr)\n",
    "    np.savetxt('answer_2.txt', binary_arr, fmt='%d')\n",
    "\n",
    "binary_representation(8)\n",
    "# сделать ввод из файла"
   ]
  },
  {
   "cell_type": "markdown",
   "metadata": {},
   "source": [
    "## Задача 3\n",
    "Написать функцию, которая возвращает все уникальные строки матрицы"
   ]
  },
  {
   "cell_type": "code",
   "execution_count": 31,
   "metadata": {},
   "outputs": [
    {
     "name": "stdout",
     "output_type": "stream",
     "text": [
      "[[ 1.  2.  3.]\n",
      " [ 3.  4.  3.]\n",
      " [23.  5.  3.]\n",
      " [76.  4.  3.]]\n"
     ]
    }
   ],
   "source": [
    "def unique_rows(n, m):\n",
    "    matrices = np.loadtxt('matrices_3.txt', delimiter=',').reshape(n, m)\n",
    "    uniques = np.unique(matrices, axis=0)\n",
    "    print(uniques)\n",
    "    np.savetxt('answer_3.txt', uniques, fmt='%d')\n",
    "\n",
    "unique_rows(8, 3)\n",
    "# сделать ввод из файла"
   ]
  },
  {
   "cell_type": "markdown",
   "metadata": {},
   "source": [
    "## Задача 4\n",
    "Написать функцию, которая заполняет матрицу с размерами (M,N) случайными числами распределенными по нормальному закону. Затем считает мат. ожидание и дисперсию для каждого из столбцов, а также строит для каждой строки гистограмму значений (использовать функцию hist из модуля matplotlib.plot)"
   ]
  },
  {
   "cell_type": "code",
   "execution_count": 32,
   "metadata": {},
   "outputs": [
    {
     "name": "stdout",
     "output_type": "stream",
     "text": [
      "[[-0.76156162  1.43091268  0.10171917 -0.09420869  2.31457978  1.37156017\n",
      "   0.1137566   1.9203643 ]\n",
      " [-2.04734851  0.046603   -1.60068351 -0.43491582  1.24816118  0.74094902\n",
      "  -0.20535816  1.62817178]]\n",
      "\n",
      "Мат. ожидание столбцов:  [-1.40445507  0.73875784 -0.74948217 -0.26456225  1.78137048  1.0562546\n",
      " -0.04580078  1.77426804]\n",
      "\n",
      "Дисперсия столбцов:  [0.41331198 0.47907833 0.72454372 0.02902034 0.28431215 0.09941761\n",
      " 0.02545856 0.02134412]\n"
     ]
    },
    {
     "data": {
      "image/png": "[encoded data removed]",
      "text/plain": [
       "<Figure size 600x1200 with 2 Axes>"
      ]
     },
     "metadata": {},
     "output_type": "display_data"
    }
   ],
   "source": [
    "def matrix_operations_4(m,n):\n",
    "    matrix = np.random.normal(loc = 0, scale = 1, size = (m*n, )).reshape((m,n))\n",
    "    print(matrix)\n",
    "    mat_ozhid = np.mean(matrix, axis = 0) \n",
    "    disp = np.var(matrix, axis = 0)\n",
    "    print(f'\\nМат. ожидание столбцов: ', mat_ozhid)\n",
    "    print(f'\\nДисперсия столбцов: ', disp)\n",
    "    \n",
    "    fig, axs = plt.subplots(nrows=matrix.shape[0], ncols=1, figsize=(6, 12))\n",
    "\n",
    "    # Перебираем строки матрицы и строим гистограмму для каждой строки\n",
    "    for i, row in enumerate(matrix):\n",
    "        axs[i].hist(row, bins=100, range=(0, 10))\n",
    "        axs[i].set_title(\"Строка {}\".format(i+1))\n",
    "\n",
    "    # Выводим графики на экран\n",
    "    plt.savefig('graph_4.png')\n",
    "    plt.show()\n",
    "\n",
    "    with open('answer_4.txt', 'w') as f:\n",
    "        # Записываем строку в файл\n",
    "        f.write(f'\\nMean of rows: {mat_ozhid}')\n",
    "        f.write(f'\\nDispersion of rows: {disp}')\n",
    "    \n",
    "f = np.loadtxt('sizes_4.txt')   \n",
    "matrix_operations_4(int(f[0]), int(f[1]))"
   ]
  },
  {
   "cell_type": "markdown",
   "metadata": {},
   "source": [
    "## Задача 5\n",
    "Написать функцию, которая заполняет матрицу (M,N) в шахматном порядке заданными числами a и b."
   ]
  },
  {
   "cell_type": "code",
   "execution_count": 33,
   "metadata": {},
   "outputs": [
    {
     "name": "stdout",
     "output_type": "stream",
     "text": [
      "[[1. 2. 1. 2. 1. 2.]\n",
      " [2. 1. 2. 1. 2. 1.]\n",
      " [1. 2. 1. 2. 1. 2.]\n",
      " [2. 1. 2. 1. 2. 1.]\n",
      " [1. 2. 1. 2. 1. 2.]]\n"
     ]
    }
   ],
   "source": [
    "def chess_matrix(m,n,a,b):\n",
    "    mat = np.loadtxt('matrix_5.txt', delimiter=',').reshape(m, n)\n",
    "\n",
    "    for i in range(m):\n",
    "        for j in range(n):\n",
    "            mat[i][j] = a if (i+j)%2==0 else b\n",
    "\n",
    "    print(mat)\n",
    "\n",
    "chess_matrix(5,6,1,2)\n",
    "# сделать ввод из файла"
   ]
  },
  {
   "cell_type": "markdown",
   "metadata": {},
   "source": [
    "## Задача 6\n",
    "Написать функцию, которая возвращает тензор представляющий изображение круга с заданным цветом и радиусом в схеме rgd на черном фоне."
   ]
  },
  {
   "cell_type": "code",
   "execution_count": 34,
   "metadata": {},
   "outputs": [
    {
     "name": "stdout",
     "output_type": "stream",
     "text": [
      "5.0\n",
      "[[[ 0.  0.  0.]\n",
      "  [ 0.  0.  0.]\n",
      "  [ 0.  0.  0.]\n",
      "  [ 0.  0.  0.]\n",
      "  [ 0.  0.  0.]\n",
      "  [ 1. 10.  1.]\n",
      "  [ 0.  0.  0.]\n",
      "  [ 0.  0.  0.]\n",
      "  [ 0.  0.  0.]\n",
      "  [ 0.  0.  0.]]\n",
      "\n",
      " [[ 0.  0.  0.]\n",
      "  [ 0.  0.  0.]\n",
      "  [ 1. 10.  1.]\n",
      "  [ 1. 10.  1.]\n",
      "  [ 1. 10.  1.]\n",
      "  [ 1. 10.  1.]\n",
      "  [ 1. 10.  1.]\n",
      "  [ 1. 10.  1.]\n",
      "  [ 1. 10.  1.]\n",
      "  [ 0.  0.  0.]]\n",
      "\n",
      " [[ 0.  0.  0.]\n",
      "  [ 1. 10.  1.]\n",
      "  [ 1. 10.  1.]\n",
      "  [ 1. 10.  1.]\n",
      "  [ 1. 10.  1.]\n",
      "  [ 1. 10.  1.]\n",
      "  [ 1. 10.  1.]\n",
      "  [ 1. 10.  1.]\n",
      "  [ 1. 10.  1.]\n",
      "  [ 1. 10.  1.]]\n",
      "\n",
      " [[ 0.  0.  0.]\n",
      "  [ 1. 10.  1.]\n",
      "  [ 1. 10.  1.]\n",
      "  [ 1. 10.  1.]\n",
      "  [ 1. 10.  1.]\n",
      "  [ 1. 10.  1.]\n",
      "  [ 1. 10.  1.]\n",
      "  [ 1. 10.  1.]\n",
      "  [ 1. 10.  1.]\n",
      "  [ 1. 10.  1.]]\n",
      "\n",
      " [[ 0.  0.  0.]\n",
      "  [ 1. 10.  1.]\n",
      "  [ 1. 10.  1.]\n",
      "  [ 1. 10.  1.]\n",
      "  [ 1. 10.  1.]\n",
      "  [ 1. 10.  1.]\n",
      "  [ 1. 10.  1.]\n",
      "  [ 1. 10.  1.]\n",
      "  [ 1. 10.  1.]\n",
      "  [ 1. 10.  1.]]\n",
      "\n",
      " [[ 1. 10.  1.]\n",
      "  [ 1. 10.  1.]\n",
      "  [ 1. 10.  1.]\n",
      "  [ 1. 10.  1.]\n",
      "  [ 1. 10.  1.]\n",
      "  [ 1. 10.  1.]\n",
      "  [ 1. 10.  1.]\n",
      "  [ 1. 10.  1.]\n",
      "  [ 1. 10.  1.]\n",
      "  [ 1. 10.  1.]]\n",
      "\n",
      " [[ 0.  0.  0.]\n",
      "  [ 1. 10.  1.]\n",
      "  [ 1. 10.  1.]\n",
      "  [ 1. 10.  1.]\n",
      "  [ 1. 10.  1.]\n",
      "  [ 1. 10.  1.]\n",
      "  [ 1. 10.  1.]\n",
      "  [ 1. 10.  1.]\n",
      "  [ 1. 10.  1.]\n",
      "  [ 1. 10.  1.]]\n",
      "\n",
      " [[ 0.  0.  0.]\n",
      "  [ 1. 10.  1.]\n",
      "  [ 1. 10.  1.]\n",
      "  [ 1. 10.  1.]\n",
      "  [ 1. 10.  1.]\n",
      "  [ 1. 10.  1.]\n",
      "  [ 1. 10.  1.]\n",
      "  [ 1. 10.  1.]\n",
      "  [ 1. 10.  1.]\n",
      "  [ 1. 10.  1.]]\n",
      "\n",
      " [[ 0.  0.  0.]\n",
      "  [ 1. 10.  1.]\n",
      "  [ 1. 10.  1.]\n",
      "  [ 1. 10.  1.]\n",
      "  [ 1. 10.  1.]\n",
      "  [ 1. 10.  1.]\n",
      "  [ 1. 10.  1.]\n",
      "  [ 1. 10.  1.]\n",
      "  [ 1. 10.  1.]\n",
      "  [ 1. 10.  1.]]\n",
      "\n",
      " [[ 0.  0.  0.]\n",
      "  [ 0.  0.  0.]\n",
      "  [ 1. 10.  1.]\n",
      "  [ 1. 10.  1.]\n",
      "  [ 1. 10.  1.]\n",
      "  [ 1. 10.  1.]\n",
      "  [ 1. 10.  1.]\n",
      "  [ 1. 10.  1.]\n",
      "  [ 1. 10.  1.]\n",
      "  [ 0.  0.  0.]]]\n"
     ]
    }
   ],
   "source": [
    "def create_circle_tensor(radius, color):\n",
    "    tensor = np.zeros((2*radius, 2*radius, 3), dtype=np.float32)\n",
    "    \n",
    "    # Вычисляем координаты центра круга\n",
    "    center_x, center_y = radius, radius\n",
    "    \n",
    "    # Создаем координатные сетки\n",
    "    x, y = np.meshgrid(np.arange(2*radius), np.arange(2*radius))\n",
    "    \n",
    "    # Создаем маску круга\n",
    "    mask = ((x - center_x)**2 + (y - center_y)**2 <= radius**2)\n",
    "    \n",
    "    # Заполняем тензор значениями цвета внутри круга\n",
    "    tensor[mask] = color\n",
    "    \n",
    "    return tensor\n",
    "\n",
    "\n",
    "f_6 = np.loadtxt('data_6.txt')\n",
    "print(f_6[0])\n",
    "tensor = create_circle_tensor(int(f_6[0]), np.array([f_6[1], f_6[2], f_6[3]], dtype=np.float32))\n",
    "np.savetxt('tensor_6.txt', tensor.reshape(-1, 3), delimiter=',')\n",
    "\n",
    "# Выводим тензор на экран\n",
    "print(tensor)"
   ]
  },
  {
   "cell_type": "markdown",
   "metadata": {},
   "source": [
    "## Задача 7\n",
    "Написать функцию, которая стандартизирует все значения тензор (отнять мат. ожидание и поделить на СКО)"
   ]
  },
  {
   "cell_type": "code",
   "execution_count": 35,
   "metadata": {},
   "outputs": [
    {
     "name": "stdout",
     "output_type": "stream",
     "text": [
      "[[-0.76925958 -0.76925958 -0.76925958]\n",
      " [-0.76925958 -0.76925958 -0.76925958]\n",
      " [-0.76925958 -0.76925958 -0.76925958]\n",
      " [-0.76925958 -0.76925958 -0.76925958]\n",
      " [-0.76925958 -0.76925958 -0.76925958]\n",
      " [-0.525823    1.66510618 -0.525823  ]\n",
      " [-0.76925958 -0.76925958 -0.76925958]\n",
      " [-0.76925958 -0.76925958 -0.76925958]\n",
      " [-0.76925958 -0.76925958 -0.76925958]\n",
      " [-0.76925958 -0.76925958 -0.76925958]\n",
      " [-0.76925958 -0.76925958 -0.76925958]\n",
      " [-0.76925958 -0.76925958 -0.76925958]\n",
      " [-0.525823    1.66510618 -0.525823  ]\n",
      " [-0.525823    1.66510618 -0.525823  ]\n",
      " [-0.525823    1.66510618 -0.525823  ]\n",
      " [-0.525823    1.66510618 -0.525823  ]\n",
      " [-0.525823    1.66510618 -0.525823  ]\n",
      " [-0.525823    1.66510618 -0.525823  ]\n",
      " [-0.525823    1.66510618 -0.525823  ]\n",
      " [-0.76925958 -0.76925958 -0.76925958]\n",
      " [-0.76925958 -0.76925958 -0.76925958]\n",
      " [-0.525823    1.66510618 -0.525823  ]\n",
      " [-0.525823    1.66510618 -0.525823  ]\n",
      " [-0.525823    1.66510618 -0.525823  ]\n",
      " [-0.525823    1.66510618 -0.525823  ]\n",
      " [-0.525823    1.66510618 -0.525823  ]\n",
      " [-0.525823    1.66510618 -0.525823  ]\n",
      " [-0.525823    1.66510618 -0.525823  ]\n",
      " [-0.525823    1.66510618 -0.525823  ]\n",
      " [-0.525823    1.66510618 -0.525823  ]\n",
      " [-0.76925958 -0.76925958 -0.76925958]\n",
      " [-0.525823    1.66510618 -0.525823  ]\n",
      " [-0.525823    1.66510618 -0.525823  ]\n",
      " [-0.525823    1.66510618 -0.525823  ]\n",
      " [-0.525823    1.66510618 -0.525823  ]\n",
      " [-0.525823    1.66510618 -0.525823  ]\n",
      " [-0.525823    1.66510618 -0.525823  ]\n",
      " [-0.525823    1.66510618 -0.525823  ]\n",
      " [-0.525823    1.66510618 -0.525823  ]\n",
      " [-0.525823    1.66510618 -0.525823  ]\n",
      " [-0.76925958 -0.76925958 -0.76925958]\n",
      " [-0.525823    1.66510618 -0.525823  ]\n",
      " [-0.525823    1.66510618 -0.525823  ]\n",
      " [-0.525823    1.66510618 -0.525823  ]\n",
      " [-0.525823    1.66510618 -0.525823  ]\n",
      " [-0.525823    1.66510618 -0.525823  ]\n",
      " [-0.525823    1.66510618 -0.525823  ]\n",
      " [-0.525823    1.66510618 -0.525823  ]\n",
      " [-0.525823    1.66510618 -0.525823  ]\n",
      " [-0.525823    1.66510618 -0.525823  ]\n",
      " [-0.525823    1.66510618 -0.525823  ]\n",
      " [-0.525823    1.66510618 -0.525823  ]\n",
      " [-0.525823    1.66510618 -0.525823  ]\n",
      " [-0.525823    1.66510618 -0.525823  ]\n",
      " [-0.525823    1.66510618 -0.525823  ]\n",
      " [-0.525823    1.66510618 -0.525823  ]\n",
      " [-0.525823    1.66510618 -0.525823  ]\n",
      " [-0.525823    1.66510618 -0.525823  ]\n",
      " [-0.525823    1.66510618 -0.525823  ]\n",
      " [-0.525823    1.66510618 -0.525823  ]\n",
      " [-0.76925958 -0.76925958 -0.76925958]\n",
      " [-0.525823    1.66510618 -0.525823  ]\n",
      " [-0.525823    1.66510618 -0.525823  ]\n",
      " [-0.525823    1.66510618 -0.525823  ]\n",
      " [-0.525823    1.66510618 -0.525823  ]\n",
      " [-0.525823    1.66510618 -0.525823  ]\n",
      " [-0.525823    1.66510618 -0.525823  ]\n",
      " [-0.525823    1.66510618 -0.525823  ]\n",
      " [-0.525823    1.66510618 -0.525823  ]\n",
      " [-0.525823    1.66510618 -0.525823  ]\n",
      " [-0.76925958 -0.76925958 -0.76925958]\n",
      " [-0.525823    1.66510618 -0.525823  ]\n",
      " [-0.525823    1.66510618 -0.525823  ]\n",
      " [-0.525823    1.66510618 -0.525823  ]\n",
      " [-0.525823    1.66510618 -0.525823  ]\n",
      " [-0.525823    1.66510618 -0.525823  ]\n",
      " [-0.525823    1.66510618 -0.525823  ]\n",
      " [-0.525823    1.66510618 -0.525823  ]\n",
      " [-0.525823    1.66510618 -0.525823  ]\n",
      " [-0.525823    1.66510618 -0.525823  ]\n",
      " [-0.76925958 -0.76925958 -0.76925958]\n",
      " [-0.525823    1.66510618 -0.525823  ]\n",
      " [-0.525823    1.66510618 -0.525823  ]\n",
      " [-0.525823    1.66510618 -0.525823  ]\n",
      " [-0.525823    1.66510618 -0.525823  ]\n",
      " [-0.525823    1.66510618 -0.525823  ]\n",
      " [-0.525823    1.66510618 -0.525823  ]\n",
      " [-0.525823    1.66510618 -0.525823  ]\n",
      " [-0.525823    1.66510618 -0.525823  ]\n",
      " [-0.525823    1.66510618 -0.525823  ]\n",
      " [-0.76925958 -0.76925958 -0.76925958]\n",
      " [-0.76925958 -0.76925958 -0.76925958]\n",
      " [-0.525823    1.66510618 -0.525823  ]\n",
      " [-0.525823    1.66510618 -0.525823  ]\n",
      " [-0.525823    1.66510618 -0.525823  ]\n",
      " [-0.525823    1.66510618 -0.525823  ]\n",
      " [-0.525823    1.66510618 -0.525823  ]\n",
      " [-0.525823    1.66510618 -0.525823  ]\n",
      " [-0.525823    1.66510618 -0.525823  ]\n",
      " [-0.76925958 -0.76925958 -0.76925958]]\n"
     ]
    }
   ],
   "source": [
    "def standardize_tensor(tensor):\n",
    "    mean = np.mean(tensor)\n",
    "    std = np.std(tensor)\n",
    "\n",
    "    res = (tensor - mean)/std\n",
    "\n",
    "    print(res)\n",
    "\n",
    "    np.savetxt('out_tensor_7.txt', res, delimiter=',')\n",
    "    \n",
    "\n",
    "tensor_7 = np.loadtxt('in_tensor_7.txt', delimiter=',')\n",
    "tensor_7\n",
    "\n",
    "standardize_tensor(tensor_7)"
   ]
  },
  {
   "cell_type": "markdown",
   "metadata": {},
   "source": [
    "## Задача 8\n",
    "Написать функцию, выделяющую часть матрицы фиксированного размера с центром в данном элементе (дополненное значением fill если необходимо)"
   ]
  },
  {
   "cell_type": "code",
   "execution_count": 36,
   "metadata": {},
   "outputs": [
    {
     "name": "stdout",
     "output_type": "stream",
     "text": [
      "[[2 2 4 0]\n",
      " [3 1 5 0]\n",
      " [4 8 2 0]\n",
      " [2 9 0 0]]\n"
     ]
    }
   ],
   "source": [
    "def part_of_matrix(matrix, center, size, fill=0):\n",
    "    # Вычисляем координаты верхнего левого угла подматрицы\n",
    "    x, y = center[0] - size // 2, center[1] - size // 2\n",
    "    \n",
    "    # Создаем пустую подматрицу заданного размера\n",
    "    submatrix = np.full((size, size), fill)\n",
    "    \n",
    "    # Вычисляем границы подматрицы в исходной матрице\n",
    "    x_min, x_max = max(0, x), min(matrix.shape[0], x + size)\n",
    "    y_min, y_max = max(0, y), min(matrix.shape[1], y + size)\n",
    "    \n",
    "    # Копируем соответствующую часть исходной матрицы в подматрицу\n",
    "    submatrix[x_min - x:x_max - x, y_min - y:y_max - y] = matrix[x_min:x_max, y_min:y_max]\n",
    "    \n",
    "    print(submatrix)\n",
    "\n",
    "\n",
    "\n",
    "f_8 = np.loadtxt('matrix_sizes_8.txt', delimiter = ',')\n",
    "matrix_8 = np.loadtxt('matrix_8.txt', delimiter=',').reshape(int(f_8[0]),int(f_8[1]))\n",
    "f_8_params = np.loadtxt('func_params_8.txt', delimiter=',')\n",
    "center = (int(f_8_params[0]), int(f_8_params[1]))\n",
    "size = int(f_8_params[2])\n",
    "fill = int(f_8_params[3])\n",
    "\n",
    "part_of_matrix(matrix_8, center, size, fill)"
   ]
  },
  {
   "cell_type": "markdown",
   "metadata": {},
   "source": [
    "## Задача 9\n",
    "Написать функцию, которая находит самое часто встречающееся число в каждой строке матрицы и возвращает массив этих значений"
   ]
  },
  {
   "cell_type": "code",
   "execution_count": 37,
   "metadata": {},
   "outputs": [
    {
     "name": "stdout",
     "output_type": "stream",
     "text": [
      "4.0\n",
      "1.0\n",
      "2.0\n",
      "9.0\n",
      "[4. 1. 2. 9.]\n"
     ]
    }
   ],
   "source": [
    "def most_met_numbers(matrix, n, m):\n",
    "    res = np.array([])\n",
    "    for i in range(n):\n",
    "        dict = {}\n",
    "        for j in range(m):\n",
    "            if matrix[i][j] not in dict:\n",
    "                dict[matrix[i][j]] = 1\n",
    "            else:\n",
    "                dict[matrix[i][j]] += 1\n",
    "        print(max(dict, key = dict.get))\n",
    "        res = np.append(res, max(dict, key = dict.get))\n",
    "\n",
    "    print(res)\n",
    "\n",
    "\n",
    "f_9 = np.loadtxt('matrix_size_9.txt', delimiter = ',')\n",
    "n, m = int(f_9[0]), int(f_9[1])\n",
    "matrix_9 = np.loadtxt('matrix_9.txt', delimiter=',').reshape(n, m)\n",
    "\n",
    "most_met_numbers(matrix_9, n, m)"
   ]
  },
  {
   "cell_type": "markdown",
   "metadata": {},
   "source": [
    "## Задача 10\n",
    "Дан трёхмерный массив, содержащий изображение, размера (height, width, numChannels), а также вектор длины numChannels. Написать функцию, которая складывает каналы изображения с указанными весами, и возвращает результат в виде матрицы размера (height, width)"
   ]
  },
  {
   "cell_type": "code",
   "execution_count": 38,
   "metadata": {},
   "outputs": [],
   "source": [
    "\n",
    "arr = np.array([[[1, 2, 3], [4, 5, 6]], [[7, 8, 9], [10, 11, 12]]])\n",
    "np.savetxt('in_3d_matrix_10.txt', arr.flatten())"
   ]
  },
  {
   "cell_type": "code",
   "execution_count": 40,
   "metadata": {},
   "outputs": [
    {
     "name": "stdout",
     "output_type": "stream",
     "text": [
      "[[ 1.9  4.9]\n",
      " [ 7.9 10.9]]\n"
     ]
    }
   ],
   "source": [
    "def combine_channels(image, weights):\n",
    "    weighted_channels = image * weights\n",
    "    combined_image = np.sum(weighted_channels, axis=2)\n",
    "    print(combined_image)\n",
    "\n",
    "\n",
    "f_10 =  np.loadtxt('size_10.txt')\n",
    "n, m, p = int(f_10[0]), int(f_10[1]), int(f_10[2])\n",
    "\n",
    "image = np.loadtxt('in_3d_matrix_10.txt', delimiter = ',').reshape(n, m, p)\n",
    "weights = np.loadtxt('weights_10.txt', delimiter=',')\n",
    "\n",
    "combine_channels(image, weights)"
   ]
  },
  {
   "cell_type": "code",
   "execution_count": null,
   "metadata": {},
   "outputs": [],
   "source": []
  }
 ],
 "metadata": {
  "kernelspec": {
   "display_name": ".pracs",
   "language": "python",
   "name": "python3"
  },
  "language_info": {
   "codemirror_mode": {
    "name": "ipython",
    "version": 3
   },
   "file_extension": ".py",
   "mimetype": "text/x-python",
   "name": "python",
   "nbconvert_exporter": "python",
   "pygments_lexer": "ipython3",
   "version": "3.11.3"
  }
 },
 "nbformat": 4,
 "nbformat_minor": 2
}
