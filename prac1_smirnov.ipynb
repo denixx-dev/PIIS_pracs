{
 "cells": [
  {
   "cell_type": "markdown",
   "metadata": {},
   "source": [
    "## Задание 1"
   ]
  },
  {
   "cell_type": "code",
   "execution_count": 4,
   "metadata": {},
   "outputs": [
    {
     "data": {
      "text/plain": [
       "{'a': 1, 'e': 2, 'i': 1, 'o': 1, 'u': 1}"
      ]
     },
     "execution_count": 4,
     "metadata": {},
     "output_type": "execute_result"
    }
   ],
   "source": [
    "str1 = input()\n",
    "def vowelsNum(str1):\n",
    "    dict1 = {'a':0, 'e':0, 'i':0, 'o':0, 'u':0}\n",
    "\n",
    "    for s in str1:\n",
    "        if s in dict1:\n",
    "            dict1[s] += 1\n",
    "\n",
    "    return dict1\n",
    "\n",
    "vowelsNum(str1)"
   ]
  },
  {
   "cell_type": "markdown",
   "metadata": {},
   "source": [
    "## Задание 2"
   ]
  },
  {
   "cell_type": "code",
   "execution_count": 14,
   "metadata": {},
   "outputs": [
    {
     "data": {
      "text/plain": [
       "False"
      ]
     },
     "execution_count": 14,
     "metadata": {},
     "output_type": "execute_result"
    }
   ],
   "source": [
    "str2 = input()\n",
    "dict2 = {}\n",
    "\n",
    "def is_unique_symbols(str2):\n",
    "    for s in str2:\n",
    "        if s not in dict2:\n",
    "            dict2[s] = 0\n",
    "    for s in str2:\n",
    "        if s in dict2:\n",
    "            dict2[s] += 1\n",
    "    return not all(i > 1 for i in dict2.values())\n",
    "\n",
    "is_unique_symbols(str2)"
   ]
  },
  {
   "cell_type": "markdown",
   "metadata": {},
   "source": [
    "## Задание 3"
   ]
  },
  {
   "cell_type": "code",
   "execution_count": 23,
   "metadata": {},
   "outputs": [
    {
     "data": {
      "text/plain": [
       "0"
      ]
     },
     "execution_count": 23,
     "metadata": {},
     "output_type": "execute_result"
    }
   ],
   "source": [
    "int3 = int(input())\n",
    "\n",
    "def num_of_ones_in_binary(int3):\n",
    "    binary_int = [int(i) for i in bin(int3)[2:]]\n",
    "    count = 0\n",
    "    for b in binary_int:\n",
    "        if b > 0:\n",
    "            count += 1\n",
    "    return count\n",
    "\n",
    "num_of_ones_in_binary(int3)\n"
   ]
  },
  {
   "cell_type": "markdown",
   "metadata": {},
   "source": [
    "## Задача 4"
   ]
  },
  {
   "cell_type": "code",
   "execution_count": 9,
   "metadata": {},
   "outputs": [
    {
     "data": {
      "text/plain": [
       "2"
      ]
     },
     "execution_count": 9,
     "metadata": {},
     "output_type": "execute_result"
    }
   ],
   "source": [
    "int4 = int(input())\n",
    "# int4 = 39\n",
    "\n",
    "def get_one_num(int4):\n",
    "    str4 = str(int4)\n",
    "    if len(str4) == 1:\n",
    "        return 0\n",
    "    while len(str4) > 1:\n",
    "        mult = 1\n",
    "        digits = list(map(int, str4))\n",
    "        for i in digits:\n",
    "            mult *= i\n",
    "        str4 = str(mult)\n",
    "        \n",
    "    return int(str4)\n",
    "\n",
    "get_one_num(int4)\n",
    "\n",
    "    "
   ]
  },
  {
   "cell_type": "markdown",
   "metadata": {},
   "source": [
    "## Задание 5"
   ]
  },
  {
   "cell_type": "code",
   "execution_count": 8,
   "metadata": {},
   "outputs": [
    {
     "data": {
      "text/plain": [
       "5.0"
      ]
     },
     "execution_count": 8,
     "metadata": {},
     "output_type": "execute_result"
    }
   ],
   "source": [
    "import numpy as np\n",
    "\n",
    "# v1 = np.array(list(map(int, input().split(\" \"))))\n",
    "# v2 = np.array(list(map(int, input().split(\" \"))))\n",
    "\n",
    "v1 = np.array([1, 2, 3, 4, 5])\n",
    "v2 = np.array([6, 7, 8, 9, 10])\n",
    "\n",
    "def std(v1, v2):\n",
    "    diff = v1 - v2\n",
    "\n",
    "    std_dev = np.sqrt(np.mean(diff**2))\n",
    "    return std_dev\n",
    "\n",
    "std(v1, v2)"
   ]
  },
  {
   "cell_type": "markdown",
   "metadata": {},
   "source": [
    "## Задание 6"
   ]
  },
  {
   "cell_type": "code",
   "execution_count": 10,
   "metadata": {},
   "outputs": [
    {
     "data": {
      "text/plain": [
       "(3.5, 1.707825127659933)"
      ]
     },
     "execution_count": 10,
     "metadata": {},
     "output_type": "execute_result"
    }
   ],
   "source": [
    "def mean_std(numbers):\n",
    "    n = len(numbers)\n",
    "    mean = sum(numbers) / n\n",
    "    std = (sum((x - mean) ** 2 for x in numbers) / n) ** 0.5\n",
    "    return mean, std\n",
    "\n",
    "v1 = np.array([1,2,3,4,5,6])\n",
    "(mean, std) = mean_std(v1)\n",
    "(mean, std)"
   ]
  },
  {
   "cell_type": "markdown",
   "metadata": {},
   "source": [
    "## Задание 7"
   ]
  },
  {
   "cell_type": "code",
   "execution_count": null,
   "metadata": {},
   "outputs": [],
   "source": []
  }
 ],
 "metadata": {
  "kernelspec": {
   "display_name": ".venv",
   "language": "python",
   "name": "python3"
  },
  "language_info": {
   "codemirror_mode": {
    "name": "ipython",
    "version": 3
   },
   "file_extension": ".py",
   "mimetype": "text/x-python",
   "name": "python",
   "nbconvert_exporter": "python",
   "pygments_lexer": "ipython3",
   "version": "3.11.3"
  },
  "orig_nbformat": 4
 },
 "nbformat": 4,
 "nbformat_minor": 2
}
